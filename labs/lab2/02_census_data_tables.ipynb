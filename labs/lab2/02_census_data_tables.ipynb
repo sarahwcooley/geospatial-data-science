{
 "cells": [
  {
   "cell_type": "markdown",
   "id": "1ada64ff",
   "metadata": {
    "deletable": false,
    "editable": false
   },
   "source": [
    "## Lab Assignment 2: Exploring Census Bureau data in Python\n",
    "\n",
    "**Objectives:**\n",
    "   * We will explore Census Bureau data using <code>cenpy</code>.\n",
    "   * Learn about Census Bureau data variables and geographic units\n",
    "   * Compute unemployment rate in Lane County, Oregon using just a few lines of code\n",
    "   * Calculate some statistics using the <code>pandas</code> library\n",
    "   * Export our data as a shapefile using <code>geopandas</code> \n",
    "   * Visualize our data in QGIS\n",
    "\n",
    "We will be relying heavily on <code>cenpy</code> which is a package that enables automatic discovery and download of US Census Bureau data. <code>cenpy</code> formats Census data as a <code>geopandas</code> DataFrame for analysis in Python or export to GIS software such as QGIS. More information about this package can be found [here](https://nbviewer.org/github/ljwolf/cenpy/blob/master/notebooks/product-api.ipynb?flush_cache=true), [here](https://nbviewer.org/github/cenpy-devs/cenpy/blob/master/notebooks/segregation.ipynb), and the [GitHub repo](https://github.com/cenpy-devs/cenpy)."
   ]
  },
  {
   "cell_type": "markdown",
   "id": "2dfb0e61",
   "metadata": {},
   "source": [
    "### Before we start...\n",
    "\n",
    "Before we start this assignment, we need to check whether there are any updates to the original course repository. \n",
    "\n",
    "We can do this by adding the original repository (the one we forked) as a *remote*:\n",
    "\n",
    "<code>git remote add upstream https://github.com/JohnnyRyan1/geospatial-data-science</code>\n",
    "\n",
    "<code>git fetch upstream</code>\n",
    "\n",
    "<code>git merge upstream/master master</code>\n"
   ]
  },
  {
   "cell_type": "code",
   "execution_count": 2,
   "id": "c2cf783f",
   "metadata": {
    "collapsed": true
   },
   "outputs": [
    {
     "ename": "ModuleNotFoundError",
     "evalue": "No module named 'cenpy'",
     "output_type": "error",
     "traceback": [
      "\u001b[0;31m---------------------------------------------------------------------------\u001b[0m",
      "\u001b[0;31mModuleNotFoundError\u001b[0m                       Traceback (most recent call last)",
      "\u001b[0;32m/var/folders/xj/5ps5mr8d5ysbd2mxxqjg3k800000gq/T/ipykernel_6685/1700705564.py\u001b[0m in \u001b[0;36m<module>\u001b[0;34m\u001b[0m\n\u001b[1;32m      1\u001b[0m \u001b[0;31m# Import modules\u001b[0m\u001b[0;34m\u001b[0m\u001b[0;34m\u001b[0m\u001b[0m\n\u001b[0;32m----> 2\u001b[0;31m \u001b[0;32mfrom\u001b[0m \u001b[0mcenpy\u001b[0m \u001b[0;32mimport\u001b[0m \u001b[0mproducts\u001b[0m\u001b[0;34m\u001b[0m\u001b[0;34m\u001b[0m\u001b[0m\n\u001b[0m\u001b[1;32m      3\u001b[0m \u001b[0;32mimport\u001b[0m \u001b[0mmatplotlib\u001b[0m\u001b[0;34m.\u001b[0m\u001b[0mpyplot\u001b[0m \u001b[0;32mas\u001b[0m \u001b[0mplt\u001b[0m\u001b[0;34m\u001b[0m\u001b[0;34m\u001b[0m\u001b[0m\n",
      "\u001b[0;31mModuleNotFoundError\u001b[0m: No module named 'cenpy'"
     ]
    }
   ],
   "source": [
    "# Import modules\n",
    "from cenpy import products\n",
    "import matplotlib.pyplot as plt"
   ]
  },
  {
   "cell_type": "markdown",
   "id": "4cd017c6",
   "metadata": {},
   "source": [
    "As a first example, let's suppose we're interested in unemployment at the tract level in Lane County, Oregon. To download data, we first need to identify the relevant product and variables of interest to us. We will use data from the American Community Survey (ACS) product which provides social and economic information every year but, unlike the Decenniel Survey, only represents a sample (about 3.5 million) of US households. "
   ]
  },
  {
   "cell_type": "code",
   "execution_count": 1,
   "id": "63d87c23",
   "metadata": {
    "collapsed": true
   },
   "outputs": [
    {
     "ename": "NameError",
     "evalue": "name 'products' is not defined",
     "output_type": "error",
     "traceback": [
      "\u001b[0;31m---------------------------------------------------------------------------\u001b[0m",
      "\u001b[0;31mNameError\u001b[0m                                 Traceback (most recent call last)",
      "\u001b[0;32m/var/folders/xj/5ps5mr8d5ysbd2mxxqjg3k800000gq/T/ipykernel_6685/2704092254.py\u001b[0m in \u001b[0;36m<module>\u001b[0;34m\u001b[0m\n\u001b[1;32m      1\u001b[0m \u001b[0;31m# Define product\u001b[0m\u001b[0;34m\u001b[0m\u001b[0;34m\u001b[0m\u001b[0m\n\u001b[0;32m----> 2\u001b[0;31m \u001b[0macs\u001b[0m \u001b[0;34m=\u001b[0m \u001b[0mproducts\u001b[0m\u001b[0;34m.\u001b[0m\u001b[0mACS\u001b[0m\u001b[0;34m(\u001b[0m\u001b[0;36m2019\u001b[0m\u001b[0;34m)\u001b[0m\u001b[0;34m\u001b[0m\u001b[0;34m\u001b[0m\u001b[0m\n\u001b[0m",
      "\u001b[0;31mNameError\u001b[0m: name 'products' is not defined"
     ]
    }
   ],
   "source": [
    "# Define product\n",
    "acs = products.ACS(2019)"
   ]
  },
  {
   "cell_type": "markdown",
   "id": "31d35fc9",
   "metadata": {},
   "source": [
    "Now we need a list of Census variables. One way to do this is to browse the ACS documentation which can be found here: https://api.census.gov/data/2019/acs/acs5/variables.html. The other is to search the tables using keywords and <code>cenpy</code>."
   ]
  },
  {
   "cell_type": "code",
   "execution_count": 6,
   "id": "d530c837",
   "metadata": {
    "collapsed": true
   },
   "outputs": [
    {
     "data": {
      "text/html": [
       "<div>\n",
       "<style scoped>\n",
       "    .dataframe tbody tr th:only-of-type {\n",
       "        vertical-align: middle;\n",
       "    }\n",
       "\n",
       "    .dataframe tbody tr th {\n",
       "        vertical-align: top;\n",
       "    }\n",
       "\n",
       "    .dataframe thead th {\n",
       "        text-align: right;\n",
       "    }\n",
       "</style>\n",
       "<table border=\"1\" class=\"dataframe\">\n",
       "  <thead>\n",
       "    <tr style=\"text-align: right;\">\n",
       "      <th></th>\n",
       "      <th>description</th>\n",
       "      <th>columns</th>\n",
       "    </tr>\n",
       "    <tr>\n",
       "      <th>table_name</th>\n",
       "      <th></th>\n",
       "      <th></th>\n",
       "    </tr>\n",
       "  </thead>\n",
       "  <tbody>\n",
       "    <tr>\n",
       "      <th>B10058</th>\n",
       "      <td>EMPLOYMENT STATUS OF GRANDPARENTS LIVING WITH ...</td>\n",
       "      <td>[B10058_001E, B10058_002E, B10058_003E, B10058...</td>\n",
       "    </tr>\n",
       "    <tr>\n",
       "      <th>B14005</th>\n",
       "      <td>SEX BY SCHOOL ENROLLMENT BY EDUCATIONAL ATTAIN...</td>\n",
       "      <td>[B14005_001E, B14005_002E, B14005_003E, B14005...</td>\n",
       "    </tr>\n",
       "    <tr>\n",
       "      <th>B16010</th>\n",
       "      <td>EDUCATIONAL ATTAINMENT AND EMPLOYMENT STATUS B...</td>\n",
       "      <td>[B16010_001E, B16010_002E, B16010_003E, B16010...</td>\n",
       "    </tr>\n",
       "    <tr>\n",
       "      <th>B17005</th>\n",
       "      <td>POVERTY STATUS IN THE PAST 12 MONTHS OF INDIVI...</td>\n",
       "      <td>[B17005_001E, B17005_002E, B17005_003E, B17005...</td>\n",
       "    </tr>\n",
       "    <tr>\n",
       "      <th>B19053</th>\n",
       "      <td>SELF-EMPLOYMENT INCOME IN THE PAST 12 MONTHS F...</td>\n",
       "      <td>[B19053_001E, B19053_002E, B19053_003E]</td>\n",
       "    </tr>\n",
       "    <tr>\n",
       "      <th>B19063</th>\n",
       "      <td>AGGREGATE SELF-EMPLOYMENT INCOME IN THE PAST 1...</td>\n",
       "      <td>[B19063_001E]</td>\n",
       "    </tr>\n",
       "    <tr>\n",
       "      <th>B21005</th>\n",
       "      <td>AGE BY VETERAN STATUS BY EMPLOYMENT STATUS FOR...</td>\n",
       "      <td>[B21005_001E, B21005_002E, B21005_003E, B21005...</td>\n",
       "    </tr>\n",
       "    <tr>\n",
       "      <th>B23001</th>\n",
       "      <td>SEX BY AGE BY EMPLOYMENT STATUS FOR THE POPULA...</td>\n",
       "      <td>[B23001_001E, B23001_002E, B23001_003E, B23001...</td>\n",
       "    </tr>\n",
       "    <tr>\n",
       "      <th>B23003</th>\n",
       "      <td>PRESENCE OF OWN CHILDREN UNDER 18 YEARS BY AGE...</td>\n",
       "      <td>[B23003_001E, B23003_002E, B23003_003E, B23003...</td>\n",
       "    </tr>\n",
       "    <tr>\n",
       "      <th>B23006</th>\n",
       "      <td>EDUCATIONAL ATTAINMENT BY EMPLOYMENT STATUS FO...</td>\n",
       "      <td>[B23006_001E, B23006_002E, B23006_003E, B23006...</td>\n",
       "    </tr>\n",
       "    <tr>\n",
       "      <th>B23007</th>\n",
       "      <td>PRESENCE OF OWN CHILDREN UNDER 18 YEARS BY FAM...</td>\n",
       "      <td>[B23007_001E, B23007_002E, B23007_003E, B23007...</td>\n",
       "    </tr>\n",
       "    <tr>\n",
       "      <th>B23008</th>\n",
       "      <td>AGE OF OWN CHILDREN UNDER 18 YEARS IN FAMILIES...</td>\n",
       "      <td>[B23008_001E, B23008_002E, B23008_003E, B23008...</td>\n",
       "    </tr>\n",
       "    <tr>\n",
       "      <th>B23024</th>\n",
       "      <td>POVERTY STATUS IN THE PAST 12 MONTHS BY DISABI...</td>\n",
       "      <td>[B23024_001E, B23024_002E, B23024_003E, B23024...</td>\n",
       "    </tr>\n",
       "    <tr>\n",
       "      <th>B23025</th>\n",
       "      <td>EMPLOYMENT STATUS FOR THE POPULATION 16 YEARS ...</td>\n",
       "      <td>[B23025_001E, B23025_002E, B23025_003E, B23025...</td>\n",
       "    </tr>\n",
       "    <tr>\n",
       "      <th>B26114</th>\n",
       "      <td>GROUP QUARTERS TYPE [3] BY EMPLOYMENT STATUS</td>\n",
       "      <td>[B26114_001E, B26114_002E, B26114_003E, B26114...</td>\n",
       "    </tr>\n",
       "    <tr>\n",
       "      <th>B26214</th>\n",
       "      <td>GROUP QUARTERS TYPE [5] BY EMPLOYMENT STATUS</td>\n",
       "      <td>[B26214_001E, B26214_002E, B26214_003E, B26214...</td>\n",
       "    </tr>\n",
       "    <tr>\n",
       "      <th>B27011</th>\n",
       "      <td>HEALTH INSURANCE COVERAGE STATUS AND TYPE BY E...</td>\n",
       "      <td>[B27011_001E, B27011_002E, B27011_003E, B27011...</td>\n",
       "    </tr>\n",
       "    <tr>\n",
       "      <th>B99231</th>\n",
       "      <td>ALLOCATION OF EMPLOYMENT STATUS FOR THE POPULA...</td>\n",
       "      <td>[B99231_001E, B99231_002E, B99231_003E]</td>\n",
       "    </tr>\n",
       "    <tr>\n",
       "      <th>C18120</th>\n",
       "      <td>EMPLOYMENT STATUS BY DISABILITY STATUS</td>\n",
       "      <td>[C18120_001E, C18120_002E, C18120_003E, C18120...</td>\n",
       "    </tr>\n",
       "  </tbody>\n",
       "</table>\n",
       "</div>"
      ],
      "text/plain": [
       "                                                  description  \\\n",
       "table_name                                                      \n",
       "B10058      EMPLOYMENT STATUS OF GRANDPARENTS LIVING WITH ...   \n",
       "B14005      SEX BY SCHOOL ENROLLMENT BY EDUCATIONAL ATTAIN...   \n",
       "B16010      EDUCATIONAL ATTAINMENT AND EMPLOYMENT STATUS B...   \n",
       "B17005      POVERTY STATUS IN THE PAST 12 MONTHS OF INDIVI...   \n",
       "B19053      SELF-EMPLOYMENT INCOME IN THE PAST 12 MONTHS F...   \n",
       "B19063      AGGREGATE SELF-EMPLOYMENT INCOME IN THE PAST 1...   \n",
       "B21005      AGE BY VETERAN STATUS BY EMPLOYMENT STATUS FOR...   \n",
       "B23001      SEX BY AGE BY EMPLOYMENT STATUS FOR THE POPULA...   \n",
       "B23003      PRESENCE OF OWN CHILDREN UNDER 18 YEARS BY AGE...   \n",
       "B23006      EDUCATIONAL ATTAINMENT BY EMPLOYMENT STATUS FO...   \n",
       "B23007      PRESENCE OF OWN CHILDREN UNDER 18 YEARS BY FAM...   \n",
       "B23008      AGE OF OWN CHILDREN UNDER 18 YEARS IN FAMILIES...   \n",
       "B23024      POVERTY STATUS IN THE PAST 12 MONTHS BY DISABI...   \n",
       "B23025      EMPLOYMENT STATUS FOR THE POPULATION 16 YEARS ...   \n",
       "B26114           GROUP QUARTERS TYPE [3] BY EMPLOYMENT STATUS   \n",
       "B26214           GROUP QUARTERS TYPE [5] BY EMPLOYMENT STATUS   \n",
       "B27011      HEALTH INSURANCE COVERAGE STATUS AND TYPE BY E...   \n",
       "B99231      ALLOCATION OF EMPLOYMENT STATUS FOR THE POPULA...   \n",
       "C18120                 EMPLOYMENT STATUS BY DISABILITY STATUS   \n",
       "\n",
       "                                                      columns  \n",
       "table_name                                                     \n",
       "B10058      [B10058_001E, B10058_002E, B10058_003E, B10058...  \n",
       "B14005      [B14005_001E, B14005_002E, B14005_003E, B14005...  \n",
       "B16010      [B16010_001E, B16010_002E, B16010_003E, B16010...  \n",
       "B17005      [B17005_001E, B17005_002E, B17005_003E, B17005...  \n",
       "B19053                [B19053_001E, B19053_002E, B19053_003E]  \n",
       "B19063                                          [B19063_001E]  \n",
       "B21005      [B21005_001E, B21005_002E, B21005_003E, B21005...  \n",
       "B23001      [B23001_001E, B23001_002E, B23001_003E, B23001...  \n",
       "B23003      [B23003_001E, B23003_002E, B23003_003E, B23003...  \n",
       "B23006      [B23006_001E, B23006_002E, B23006_003E, B23006...  \n",
       "B23007      [B23007_001E, B23007_002E, B23007_003E, B23007...  \n",
       "B23008      [B23008_001E, B23008_002E, B23008_003E, B23008...  \n",
       "B23024      [B23024_001E, B23024_002E, B23024_003E, B23024...  \n",
       "B23025      [B23025_001E, B23025_002E, B23025_003E, B23025...  \n",
       "B26114      [B26114_001E, B26114_002E, B26114_003E, B26114...  \n",
       "B26214      [B26214_001E, B26214_002E, B26214_003E, B26214...  \n",
       "B27011      [B27011_001E, B27011_002E, B27011_003E, B27011...  \n",
       "B99231                [B99231_001E, B99231_002E, B99231_003E]  \n",
       "C18120      [C18120_001E, C18120_002E, C18120_003E, C18120...  "
      ]
     },
     "execution_count": 6,
     "metadata": {},
     "output_type": "execute_result"
    }
   ],
   "source": [
    "# Print list of tables\n",
    "acs.filter_tables('EMPLOYMENT', by='description')"
   ]
  },
  {
   "cell_type": "markdown",
   "id": "53976aa1",
   "metadata": {},
   "source": [
    "In our case we are interested in the variable **B23025** which contains employment status for the population that is 16 years and over. "
   ]
  },
  {
   "cell_type": "code",
   "execution_count": 8,
   "id": "d11aa24f",
   "metadata": {
    "collapsed": true
   },
   "outputs": [
    {
     "data": {
      "text/html": [
       "<div>\n",
       "<style scoped>\n",
       "    .dataframe tbody tr th:only-of-type {\n",
       "        vertical-align: middle;\n",
       "    }\n",
       "\n",
       "    .dataframe tbody tr th {\n",
       "        vertical-align: top;\n",
       "    }\n",
       "\n",
       "    .dataframe thead th {\n",
       "        text-align: right;\n",
       "    }\n",
       "</style>\n",
       "<table border=\"1\" class=\"dataframe\">\n",
       "  <thead>\n",
       "    <tr style=\"text-align: right;\">\n",
       "      <th></th>\n",
       "      <th>label</th>\n",
       "      <th>concept</th>\n",
       "      <th>predicateType</th>\n",
       "      <th>group</th>\n",
       "      <th>limit</th>\n",
       "      <th>predicateOnly</th>\n",
       "      <th>attributes</th>\n",
       "      <th>required</th>\n",
       "      <th>values</th>\n",
       "    </tr>\n",
       "  </thead>\n",
       "  <tbody>\n",
       "    <tr>\n",
       "      <th>B23025_004E</th>\n",
       "      <td>Estimate!!Total!!In labor force!!Civilian labo...</td>\n",
       "      <td>EMPLOYMENT STATUS FOR THE POPULATION 16 YEARS ...</td>\n",
       "      <td>int</td>\n",
       "      <td>B23025</td>\n",
       "      <td>0</td>\n",
       "      <td>NaN</td>\n",
       "      <td>B23025_004EA,B23025_004M,B23025_004MA</td>\n",
       "      <td>NaN</td>\n",
       "      <td>NaN</td>\n",
       "    </tr>\n",
       "    <tr>\n",
       "      <th>B23025_005E</th>\n",
       "      <td>Estimate!!Total!!In labor force!!Civilian labo...</td>\n",
       "      <td>EMPLOYMENT STATUS FOR THE POPULATION 16 YEARS ...</td>\n",
       "      <td>int</td>\n",
       "      <td>B23025</td>\n",
       "      <td>0</td>\n",
       "      <td>NaN</td>\n",
       "      <td>B23025_005EA,B23025_005M,B23025_005MA</td>\n",
       "      <td>NaN</td>\n",
       "      <td>NaN</td>\n",
       "    </tr>\n",
       "    <tr>\n",
       "      <th>B23025_003E</th>\n",
       "      <td>Estimate!!Total!!In labor force!!Civilian labo...</td>\n",
       "      <td>EMPLOYMENT STATUS FOR THE POPULATION 16 YEARS ...</td>\n",
       "      <td>int</td>\n",
       "      <td>B23025</td>\n",
       "      <td>0</td>\n",
       "      <td>NaN</td>\n",
       "      <td>B23025_003EA,B23025_003M,B23025_003MA</td>\n",
       "      <td>NaN</td>\n",
       "      <td>NaN</td>\n",
       "    </tr>\n",
       "    <tr>\n",
       "      <th>B23025_002E</th>\n",
       "      <td>Estimate!!Total!!In labor force</td>\n",
       "      <td>EMPLOYMENT STATUS FOR THE POPULATION 16 YEARS ...</td>\n",
       "      <td>int</td>\n",
       "      <td>B23025</td>\n",
       "      <td>0</td>\n",
       "      <td>NaN</td>\n",
       "      <td>B23025_002EA,B23025_002M,B23025_002MA</td>\n",
       "      <td>NaN</td>\n",
       "      <td>NaN</td>\n",
       "    </tr>\n",
       "    <tr>\n",
       "      <th>B23025_001E</th>\n",
       "      <td>Estimate!!Total</td>\n",
       "      <td>EMPLOYMENT STATUS FOR THE POPULATION 16 YEARS ...</td>\n",
       "      <td>int</td>\n",
       "      <td>B23025</td>\n",
       "      <td>0</td>\n",
       "      <td>NaN</td>\n",
       "      <td>B23025_001EA,B23025_001M,B23025_001MA</td>\n",
       "      <td>NaN</td>\n",
       "      <td>NaN</td>\n",
       "    </tr>\n",
       "    <tr>\n",
       "      <th>B23025_007E</th>\n",
       "      <td>Estimate!!Total!!Not in labor force</td>\n",
       "      <td>EMPLOYMENT STATUS FOR THE POPULATION 16 YEARS ...</td>\n",
       "      <td>int</td>\n",
       "      <td>B23025</td>\n",
       "      <td>0</td>\n",
       "      <td>NaN</td>\n",
       "      <td>B23025_007EA,B23025_007M,B23025_007MA</td>\n",
       "      <td>NaN</td>\n",
       "      <td>NaN</td>\n",
       "    </tr>\n",
       "    <tr>\n",
       "      <th>B23025_006E</th>\n",
       "      <td>Estimate!!Total!!In labor force!!Armed Forces</td>\n",
       "      <td>EMPLOYMENT STATUS FOR THE POPULATION 16 YEARS ...</td>\n",
       "      <td>int</td>\n",
       "      <td>B23025</td>\n",
       "      <td>0</td>\n",
       "      <td>NaN</td>\n",
       "      <td>B23025_006EA,B23025_006M,B23025_006MA</td>\n",
       "      <td>NaN</td>\n",
       "      <td>NaN</td>\n",
       "    </tr>\n",
       "  </tbody>\n",
       "</table>\n",
       "</div>"
      ],
      "text/plain": [
       "                                                         label  \\\n",
       "B23025_004E  Estimate!!Total!!In labor force!!Civilian labo...   \n",
       "B23025_005E  Estimate!!Total!!In labor force!!Civilian labo...   \n",
       "B23025_003E  Estimate!!Total!!In labor force!!Civilian labo...   \n",
       "B23025_002E                    Estimate!!Total!!In labor force   \n",
       "B23025_001E                                    Estimate!!Total   \n",
       "B23025_007E                Estimate!!Total!!Not in labor force   \n",
       "B23025_006E      Estimate!!Total!!In labor force!!Armed Forces   \n",
       "\n",
       "                                                       concept predicateType  \\\n",
       "B23025_004E  EMPLOYMENT STATUS FOR THE POPULATION 16 YEARS ...           int   \n",
       "B23025_005E  EMPLOYMENT STATUS FOR THE POPULATION 16 YEARS ...           int   \n",
       "B23025_003E  EMPLOYMENT STATUS FOR THE POPULATION 16 YEARS ...           int   \n",
       "B23025_002E  EMPLOYMENT STATUS FOR THE POPULATION 16 YEARS ...           int   \n",
       "B23025_001E  EMPLOYMENT STATUS FOR THE POPULATION 16 YEARS ...           int   \n",
       "B23025_007E  EMPLOYMENT STATUS FOR THE POPULATION 16 YEARS ...           int   \n",
       "B23025_006E  EMPLOYMENT STATUS FOR THE POPULATION 16 YEARS ...           int   \n",
       "\n",
       "              group limit predicateOnly  \\\n",
       "B23025_004E  B23025     0           NaN   \n",
       "B23025_005E  B23025     0           NaN   \n",
       "B23025_003E  B23025     0           NaN   \n",
       "B23025_002E  B23025     0           NaN   \n",
       "B23025_001E  B23025     0           NaN   \n",
       "B23025_007E  B23025     0           NaN   \n",
       "B23025_006E  B23025     0           NaN   \n",
       "\n",
       "                                        attributes required values  \n",
       "B23025_004E  B23025_004EA,B23025_004M,B23025_004MA      NaN    NaN  \n",
       "B23025_005E  B23025_005EA,B23025_005M,B23025_005MA      NaN    NaN  \n",
       "B23025_003E  B23025_003EA,B23025_003M,B23025_003MA      NaN    NaN  \n",
       "B23025_002E  B23025_002EA,B23025_002M,B23025_002MA      NaN    NaN  \n",
       "B23025_001E  B23025_001EA,B23025_001M,B23025_001MA      NaN    NaN  \n",
       "B23025_007E  B23025_007EA,B23025_007M,B23025_007MA      NaN    NaN  \n",
       "B23025_006E  B23025_006EA,B23025_006M,B23025_006MA      NaN    NaN  "
      ]
     },
     "execution_count": 8,
     "metadata": {},
     "output_type": "execute_result"
    }
   ],
   "source": [
    "# Print list of variables\n",
    "acs.filter_variables('B23025')"
   ]
  },
  {
   "cell_type": "markdown",
   "id": "45e651a0",
   "metadata": {},
   "source": [
    "After identifying relevant variables, we can download the data and compute variables at the tract level which is the third smallest geographic unit in Census data. "
   ]
  },
  {
   "cell_type": "markdown",
   "id": "b28aafba",
   "metadata": {},
   "source": [
    "<div>\n",
    "<img src=\"images/census_geographic_units.png\" width=\"800\"/>\n",
    "</div>"
   ]
  },
  {
   "cell_type": "code",
   "execution_count": 10,
   "id": "0920a66a",
   "metadata": {
    "collapsed": true
   },
   "outputs": [
    {
     "name": "stderr",
     "output_type": "stream",
     "text": [
      "/home/johnny/anaconda3/envs/lab1/lib/python3.8/site-packages/pyproj/crs/crs.py:131: FutureWarning: '+init=<authority>:<code>' syntax is deprecated. '<authority>:<code>' is the preferred initialization method. When making the change, be mindful of axis order changes: https://pyproj4.github.io/pyproj/stable/gotchas.html#axis-order-changes-in-proj-6\n",
      "  in_crs_string = _prepare_from_proj_string(in_crs_string)\n",
      "/home/johnny/anaconda3/envs/lab1/lib/python3.8/site-packages/pyproj/crs/crs.py:131: FutureWarning: '+init=<authority>:<code>' syntax is deprecated. '<authority>:<code>' is the preferred initialization method. When making the change, be mindful of axis order changes: https://pyproj4.github.io/pyproj/stable/gotchas.html#axis-order-changes-in-proj-6\n",
      "  in_crs_string = _prepare_from_proj_string(in_crs_string)\n",
      "/home/johnny/anaconda3/envs/lab1/lib/python3.8/site-packages/cenpy/products.py:762: FutureWarning: The `op` parameter is deprecated and will be removed in a future release. Please use the `predicate` parameter instead.\n",
      "  return self._from_name(county, variables, level, \"Counties\", **kwargs)\n"
     ]
    }
   ],
   "source": [
    "# Download data\n",
    "lane = products.ACS(2019).from_county('Lane County, OR', level='tract',\n",
    "                                        variables=['B23025_003E', 'B23025_005E'])\n",
    "\n",
    "# Compute unemployment percentage\n",
    "lane['percent_unemployed'] = lane['B23025_005E'] / lane['B23025_003E'] * 100"
   ]
  },
  {
   "cell_type": "markdown",
   "id": "1bcc68d2",
   "metadata": {},
   "source": [
    "Now let’s look at some summary statistics."
   ]
  },
  {
   "cell_type": "code",
   "execution_count": 14,
   "id": "19dd961b",
   "metadata": {
    "collapsed": true
   },
   "outputs": [
    {
     "data": {
      "text/plain": [
       "count    86.000000\n",
       "mean      6.914352\n",
       "std       3.492321\n",
       "min       1.193565\n",
       "25%       4.665387\n",
       "50%       6.242081\n",
       "75%       8.644192\n",
       "max      24.157303\n",
       "Name: percent_unemployed, dtype: float64"
      ]
     },
     "execution_count": 14,
     "metadata": {},
     "output_type": "execute_result"
    }
   ],
   "source": [
    "# Caluclate some stats\n",
    "lane['percent_unemployed'].describe()"
   ]
  },
  {
   "cell_type": "markdown",
   "id": "0c8d7b0c",
   "metadata": {},
   "source": [
    "We can also plot this easily."
   ]
  },
  {
   "cell_type": "code",
   "execution_count": 15,
   "id": "85af800b",
   "metadata": {
    "collapsed": true
   },
   "outputs": [
    {
     "data": {
      "text/plain": [
       "<AxesSubplot:>"
      ]
     },
     "execution_count": 15,
     "metadata": {},
     "output_type": "execute_result"
    },
    {
     "data": {
      "image/png": "[encoded data removed]",
      "text/plain": [
       "<Figure size 720x720 with 1 Axes>"
      ]
     },
     "metadata": {
      "needs_background": "light"
     },
     "output_type": "display_data"
    }
   ],
   "source": [
    "# Plot map\n",
    "f, ax = plt.subplots(1, 1, figsize=(10,10))\n",
    "lane.plot('percent_unemployed', ax=ax, cmap='plasma')"
   ]
  },
  {
   "cell_type": "markdown",
   "id": "3b2a3a25",
   "metadata": {},
   "source": [
    "But it is sometimes useful to export the data for viewing in GIS software."
   ]
  },
  {
   "cell_type": "code",
   "execution_count": null,
   "id": "8869237a",
   "metadata": {},
   "outputs": [],
   "source": [
    "# Save to file\n",
    "lane.to_file('/path/to/lane_unemployment.shp') # Note that you will have to change the path to your student folder"
   ]
  },
  {
   "cell_type": "markdown",
   "id": "3b842bb8",
   "metadata": {},
   "source": [
    "### Visualizing data in QGIS\n",
    "\n",
    "Open QGIS and install the **QuickMapServices** plugin which provides some basemaps for locating our data. \n",
    "\n",
    "* **Plugins** --> **Manage and Install Plugins**\n",
    "* Search for **QuickMapServices** and **Install Plugin**\n",
    "\n",
    "When the plugin is installed, we will display the OpenStreetMap (OSM) basemap in our QGIS workspace. OSM is a free editable geographic database of the world. \n",
    "\n",
    "* **Web** --> **QuickMapServices** --> **OSM** --> **OSM Standard**\n",
    "\n",
    "Add *lane_unemployment.shp* to your QGIS workspace and change the Symbology of the layer so that the unemployment data is represented by a colorscale.\n",
    "\n",
    "\n",
    "### Question 1 (10 points): \n",
    "Copy and paste your map to your answer document. Which tract has the highest unemployment percentage in Lane County? How many people are unemployed in this tract? \n",
    "\n",
    "### Question 2 (40 points): \n",
    "Produce your own chloropleth map for a city, county or state showing a Census variable (or derived variable) of your choice. Copy and paste your map to your answer document with a short description of what your map shows. *Note*: *if your map represents a state, use county level Census data, if your map represents a county or city, use tract or block group level data*. "
   ]
  }
 ],
 "metadata": {
  "celltoolbar": "Edit Metadata",
  "kernelspec": {
   "display_name": "Python 3 (ipykernel)",
   "language": "python",
   "name": "python3"
  },
  "language_info": {
   "codemirror_mode": {
    "name": "ipython",
    "version": 3
   },
   "file_extension": ".py",
   "mimetype": "text/x-python",
   "name": "python",
   "nbconvert_exporter": "python",
   "pygments_lexer": "ipython3",
   "version": "3.9.7"
  }
 },
 "nbformat": 4,
 "nbformat_minor": 5
}
